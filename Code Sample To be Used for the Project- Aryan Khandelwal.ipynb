{
 "cells": [
  {
   "cell_type": "code",
   "execution_count": 6,
   "id": "2698876f",
   "metadata": {},
   "outputs": [
    {
     "name": "stdout",
     "output_type": "stream",
     "text": [
      "Requirement already satisfied: pyarrow in c:\\users\\khand\\anaconda3\\lib\\site-packages (13.0.0)\n",
      "Requirement already satisfied: numpy>=1.16.6 in c:\\users\\khand\\anaconda3\\lib\\site-packages (from pyarrow) (1.21.5)\n"
     ]
    }
   ],
   "source": [
    "!pip install pyarrow"
   ]
  },
  {
   "cell_type": "code",
   "execution_count": 11,
   "id": "e3401577",
   "metadata": {},
   "outputs": [
    {
     "name": "stdout",
     "output_type": "stream",
     "text": [
      "   Day   Trips\n",
      "0    1   76762\n",
      "1    2   65777\n",
      "2    3   85783\n",
      "3    4   95092\n",
      "4    5  101063\n",
      "5    6  102550\n",
      "6    7  105036\n",
      "7    8   85056\n",
      "8    9   85349\n",
      "9   10   99916\n",
      "10  11  106118\n",
      "11  12  111386\n",
      "12  13  110719\n",
      "13  14  112950\n",
      "14  15   96844\n",
      "15  16   80120\n",
      "16  17  101052\n",
      "17  18  106152\n",
      "18  19  114603\n",
      "19  20  109444\n",
      "20  21  111999\n",
      "21  22   89651\n",
      "22  23   89791\n",
      "23  24  103862\n",
      "24  25  109203\n",
      "25  26  114877\n",
      "26  27  111668\n",
      "27  28  111645\n",
      "28  29   88131\n",
      "29  30   83768\n",
      "30  31  100399\n"
     ]
    }
   ],
   "source": [
    "import pyarrow.parquet as pq\n",
    "import pandas as pd\n",
    "\n",
    "# Specify the path to your Parquet file\n",
    "parquet_file_path = 'data/yellow_tripdata_2023-01.parquet'\n",
    "\n",
    "# Read the Parquet file into a PyArrow Table\n",
    "table = pq.read_table(parquet_file_path)\n",
    "\n",
    "# Select the 'tpep_pickup_datetime' column\n",
    "table_with_datetime = table.select(['tpep_pickup_datetime'])\n",
    "\n",
    "# Convert the selected PyArrow Table to a Pandas DataFrame\n",
    "df = table_with_datetime.to_pandas()\n",
    "\n",
    "# Convert 'tpep_pickup_datetime' column to datetime\n",
    "df['tpep_pickup_datetime'] = pd.to_datetime(df['tpep_pickup_datetime'])\n",
    "\n",
    "# Create an empty DataFrame to store the counts for each day\n",
    "trip_counts = pd.DataFrame(columns=['Day', 'Trips'])\n",
    "\n",
    "# Iterate through each day of the month (assuming a 31-day month)\n",
    "for day in range(1, 32):\n",
    "    day_trips = df[df['tpep_pickup_datetime'].dt.day == day].shape[0]\n",
    "    day_count_df = pd.DataFrame({'Day': [day], 'Trips': [day_trips]})\n",
    "    trip_counts = pd.concat([trip_counts, day_count_df], ignore_index=True)\n",
    "\n",
    "# Display the DataFrame\n",
    "print(trip_counts)\n"
   ]
  }
 ],
 "metadata": {
  "kernelspec": {
   "display_name": "Python 3 (ipykernel)",
   "language": "python",
   "name": "python3"
  },
  "language_info": {
   "codemirror_mode": {
    "name": "ipython",
    "version": 3
   },
   "file_extension": ".py",
   "mimetype": "text/x-python",
   "name": "python",
   "nbconvert_exporter": "python",
   "pygments_lexer": "ipython3",
   "version": "3.9.13"
  }
 },
 "nbformat": 4,
 "nbformat_minor": 5
}
