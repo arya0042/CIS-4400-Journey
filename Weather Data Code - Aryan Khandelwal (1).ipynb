{
 "cells": [
  {
   "cell_type": "code",
   "execution_count": 2,
   "id": "94f00364",
   "metadata": {},
   "outputs": [
    {
     "name": "stdout",
     "output_type": "stream",
     "text": [
      "Data saved successfully.\n"
     ]
    }
   ],
   "source": [
    "import requests\n",
    "import pandas as pd\n",
    "from io import StringIO\n",
    "\n",
    "url = \"https://weather.visualcrossing.com/VisualCrossingWebServices/rest/services/retrievebulkdataset?&key=ZXX854D8DD7H33NN6KCSE8JAJ&taskId=400b6a3045553655668da82a1b91a1b2&zip=false\"\n",
    "\n",
    "try:\n",
    "    response = requests.get(url)\n",
    "    response.raise_for_status()  # Check for errors\n",
    "\n",
    "    # Assuming the response contains CSV data, you can use pandas to read it\n",
    "    csv_data = StringIO(response.text)\n",
    "    df = pd.read_csv(csv_data)\n",
    "\n",
    "    # Save the DataFrame to a CSV file on your computer\n",
    "    df.to_csv('weather_data.csv', index=False)\n",
    "\n",
    "    print(\"Data saved successfully.\")\n",
    "\n",
    "except requests.exceptions.RequestException as e:\n",
    "    print(f\"Error fetching data: {e}\")"
   ]
  },
  {
   "cell_type": "code",
   "execution_count": 3,
   "id": "7cc93bbf",
   "metadata": {},
   "outputs": [
    {
     "name": "stdout",
     "output_type": "stream",
     "text": [
      "File uploaded to Azure Storage Blob: journeydata/weather_data.csv\n"
     ]
    }
   ],
   "source": [
    "from azure.storage.blob import BlobServiceClient, BlobClient, ContainerClient\n",
    "import pandas as pd\n",
    "\n",
    "# Azure Storage Account details\n",
    "account_name = 'journeygroup'\n",
    "account_key = '2MVcmcztJuQBAB2QkioYpHDfWwQbYgMK4dCxpM59RKa2nUU4TtMs7eoDSymhiSbYdc9aBoFAoqhW+ASte7GP7g=='\n",
    "container_name = 'journeydata'\n",
    "\n",
    "# Function to upload CSV file to Azure Storage Blob\n",
    "def upload_csv_to_blob(csv_path, blob_name):\n",
    "    # Read CSV file content\n",
    "    df = pd.read_csv(csv_path)\n",
    "    csv_content = df.to_csv(index=False)\n",
    "\n",
    "    # Create a connection to Azure Storage Blob\n",
    "    blob_service_client = BlobServiceClient(account_url=f\"https://{account_name}.blob.core.windows.net\", credential=account_key)\n",
    "    container_client = blob_service_client.get_container_client(container_name)\n",
    "    blob_client = container_client.get_blob_client(blob_name)\n",
    "\n",
    "    # Upload the CSV file to Azure Storage Blob\n",
    "    blob_client.upload_blob(csv_content, overwrite=True)\n",
    "\n",
    "    print(f\"File uploaded to Azure Storage Blob: {blob_name}\")\n",
    "\n",
    "# Example: Upload CSV file\n",
    "upload_csv_to_blob('C:/Users/khand/OneDrive/Desktop/STA 3000/weather_data.csv', 'journeydata/weather_data.csv')"
   ]
  },
  {
   "cell_type": "code",
   "execution_count": null,
   "id": "f4a4df4e",
   "metadata": {},
   "outputs": [],
   "source": []
  },
  {
   "cell_type": "code",
   "execution_count": 1,
   "id": "444b060b",
   "metadata": {},
   "outputs": [
    {
     "name": "stdout",
     "output_type": "stream",
     "text": [
      "    date_id  full_date  tempmax\n",
      "0         0 2023-01-01     12.2\n",
      "1         1 2023-01-02     13.4\n",
      "2         2 2023-01-03     13.0\n",
      "3         3 2023-01-04     18.7\n",
      "4         4 2023-01-05      9.4\n",
      "..      ...        ...      ...\n",
      "85       85 2023-03-23     14.3\n",
      "86       86 2023-03-24     11.1\n",
      "87       87 2023-03-25     12.8\n",
      "88       88 2023-03-30      9.2\n",
      "89       89 2023-03-31     12.8\n",
      "\n",
      "[90 rows x 3 columns]\n",
      "Merged data uploaded to Azure Storage as DateInfoTable_merged.csv\n"
     ]
    }
   ],
   "source": [
    "import pandas as pd\n",
    "from azure.storage.blob import BlobServiceClient, BlobClient, ContainerClient\n",
    "from io import StringIO  # Add this import for string buffer\n",
    "\n",
    "# Your Azure Storage account information\n",
    "account_name = 'journeygroup'\n",
    "account_key = '2MVcmcztJuQBAB2QkioYpHDfWwQbYgMK4dCxpM59RKa2nUU4TtMs7eoDSymhiSbYdc9aBoFAoqhW+ASte7GP7g=='\n",
    "container_name = 'journeydata'\n",
    "\n",
    "# Load date_info_table and weather_data\n",
    "date_info_table = pd.read_csv('C:/Users/khand/OneDrive/Desktop/STA 3000/DateInfoTable.csv')\n",
    "weather_data = pd.read_csv('C:/Users/khand/OneDrive/Desktop/STA 3000/weather_data.csv')\n",
    "\n",
    "# Convert 'full_date' column in date_info_table to datetime\n",
    "date_info_table['full_date'] = pd.to_datetime(date_info_table['full_date'], format='%Y/%m/%d')\n",
    "\n",
    "# Merge each row in weather_data with the corresponding row in date_info_table\n",
    "merged_data = pd.merge(date_info_table, weather_data, left_index=True, right_index=True, suffixes=('_date_info', '_weather'))\n",
    "\n",
    "# Drop the 'datetime' column\n",
    "merged_data = merged_data.drop('datetime', axis=1)\n",
    "\n",
    "# Display the merged data\n",
    "print(merged_data)\n",
    "\n",
    "# Upload merged data to Azure Storage\n",
    "blob_service_client = BlobServiceClient(account_url=f\"https://{account_name}.blob.core.windows.net\", credential=account_key)\n",
    "container_client = blob_service_client.get_container_client(container_name)\n",
    "\n",
    "# Define the file name in Azure Storage\n",
    "file_name = 'DateInfoTable_merged.csv'\n",
    "\n",
    "# Convert DataFrame to CSV and upload to Azure Storage\n",
    "merged_data_csv = merged_data.to_csv(index=False)\n",
    "\n",
    "# Use StringIO to convert the string to bytes\n",
    "csv_as_bytes = bytes(merged_data_csv, encoding='utf-8')\n",
    "blob_client = container_client.get_blob_client(file_name)\n",
    "blob_client.upload_blob(csv_as_bytes, overwrite=True)\n",
    "\n",
    "print(f'Merged data uploaded to Azure Storage as {file_name}')\n"
   ]
  }
 ],
 "metadata": {
  "kernelspec": {
   "display_name": "Python 3 (ipykernel)",
   "language": "python",
   "name": "python3"
  },
  "language_info": {
   "codemirror_mode": {
    "name": "ipython",
    "version": 3
   },
   "file_extension": ".py",
   "mimetype": "text/x-python",
   "name": "python",
   "nbconvert_exporter": "python",
   "pygments_lexer": "ipython3",
   "version": "3.9.13"
  }
 },
 "nbformat": 4,
 "nbformat_minor": 5
}
